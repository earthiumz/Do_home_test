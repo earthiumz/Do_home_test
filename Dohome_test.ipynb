{
 "cells": [
  {
   "cell_type": "code",
   "execution_count": 1,
   "id": "d5bc0efb-f71a-49c3-8771-87a9eeb71b1f",
   "metadata": {
    "tags": []
   },
   "outputs": [],
   "source": [
    "import pandas as pd"
   ]
  },
  {
   "cell_type": "code",
   "execution_count": 124,
   "id": "ac3bf670-e54c-48df-8c39-ebb7b1be1eaa",
   "metadata": {
    "tags": []
   },
   "outputs": [],
   "source": [
    "df = pd.read_excel('dohome.xlsx')\n",
    "df['%Achievement'] = df['%Achievement'].apply(lambda x: x*100) # change to out of 100\n",
    "df['%GP'] = df['%GP'].apply(lambda x: x*100) # change to out of 100"
   ]
  },
  {
   "cell_type": "code",
   "execution_count": 111,
   "id": "58869a7b-be26-4cc1-8b9f-446160cad50d",
   "metadata": {
    "tags": []
   },
   "outputs": [],
   "source": [
    "def cal_comm_retail(name):\n",
    "    df2 = df[df['EMP Name'] == name]\n",
    "    com = 0\n",
    "\n",
    "    ## Calculate monthly commission\n",
    "    for index, row in df2.iterrows():\n",
    "        Month = row['Month']\n",
    "        achievement = row['%Achievement']\n",
    "        sale = row['Revenue']\n",
    "        \n",
    "        if 95 <= achievement < 105:\n",
    "            com += (1.25/100) * sale\n",
    "        elif 105 <= achievement < 110:\n",
    "            com += (1.25/100) * sale + 1000\n",
    "        elif 110 <= achievement < 115:\n",
    "            com += (1.25/100) * sale + 1200\n",
    "        elif 115 <= achievement < 120:\n",
    "            com += (1.20/100) * sale + 1300\n",
    "        elif achievement >= 120:\n",
    "            com += (1.00/100) * sale + 1500\n",
    "\n",
    "    ## Quarterly and yearly calculations\n",
    "    quarters = {\n",
    "        'Q1': ['Jan', 'Feb', 'Mar'],\n",
    "        'Q2': ['Apr', 'May', 'Jun'],\n",
    "        'Q3': ['Jul', 'Aug', 'Sep'],\n",
    "        'Q4': ['Oct', 'Nov', 'Dec']\n",
    "    }\n",
    "\n",
    "    com_q = 0\n",
    "    for quarter, months in quarters.items():\n",
    "        avg_achievement_q = df2.loc[df2['Month'].isin(months)]['%Achievement'].mean()\n",
    "        target_q = df2.loc[df2['Month'].isin(months)]['Sales target'].sum()\n",
    "        revenue_q = df2.loc[df2['Month'].isin(months)]['Revenue'].sum()\n",
    "\n",
    "        if revenue_q >= target_q:\n",
    "            if 105 < avg_achievement_q:\n",
    "                com_q += 0\n",
    "            elif 105 <= avg_achievement_q < 110:\n",
    "                com_q += 3000\n",
    "            elif 110 <= avg_achievement_q < 115:  \n",
    "                com_q += 4000\n",
    "            elif 115 <= avg_achievement_q < 120:  \n",
    "                com_q += 5000\n",
    "            elif avg_achievement_q >= 120:\n",
    "                com_q += 6000\n",
    "\n",
    "    ## Yearly calculation\n",
    "    avg_achievement_y = df2['%Achievement'].mean()\n",
    "    target_y = df2['Sales target'].sum()\n",
    "    revenue_y = df2['Revenue'].sum()\n",
    "\n",
    "    com_y = 0\n",
    "    if revenue_y >= target_y:\n",
    "        if 105 < avg_achievement_y:\n",
    "            com_y = 0\n",
    "        elif 105 <= avg_achievement_y < 110:\n",
    "            com_y = 10000\n",
    "        elif 110 <= avg_achievement_y < 115:  \n",
    "            com_y = 12000\n",
    "        elif 115 <= avg_achievement_y < 120:  \n",
    "            com_y = 13000\n",
    "        elif avg_achievement_y >= 120:\n",
    "            com_y = 15000\n",
    "\n",
    "    total = com + com_q + com_y\n",
    "    return total\n",
    "\n",
    "def cal_comm_whole(name):\n",
    "    df2 = df[df['EMP Name'] == name]\n",
    "    com = 0\n",
    "\n",
    "    ## Calculate monthly commission\n",
    "    for index, row in df2.iterrows():\n",
    "        Month = row['Month']\n",
    "        achievement = row['%Achievement']\n",
    "        sale = row['Revenue']\n",
    "        \n",
    "        if 95 <= achievement < 105:\n",
    "            com += 3000 + (0.020/100)*sale\n",
    "        elif 100 <= achievement < 105:\n",
    "            com += 3500 + (0.025/100)*sale\n",
    "        elif 105 <= achievement < 110:\n",
    "            com += 4000 + (0.025/100)*sale\n",
    "        elif 110 <= achievement < 115:\n",
    "            com += 4500 + (0.030/100)*sale\n",
    "        elif 115 <= achievement < 120:\n",
    "            com += 5000 + (0.035/100)*sale\n",
    "        elif achievement >= 120:\n",
    "            com += 6000 + (0.050/100)*sale\n",
    "\n",
    "    ## Quarterly and yearly calculations\n",
    "    quarters = {\n",
    "        'Q1': ['Jan', 'Feb', 'Mar'],\n",
    "        'Q2': ['Apr', 'May', 'Jun'],\n",
    "        'Q3': ['Jul', 'Aug', 'Sep'],\n",
    "        'Q4': ['Oct', 'Nov', 'Dec']\n",
    "    }\n",
    "\n",
    "    com_q = 0\n",
    "    for quarter, months in quarters.items():\n",
    "        avg_achievement_q = df2.loc[df2['Month'].isin(months)]['%Achievement'].mean()\n",
    "        target_q = df2.loc[df2['Month'].isin(months)]['Sales target'].sum()\n",
    "        revenue_q = df2.loc[df2['Month'].isin(months)]['Revenue'].sum()\n",
    "\n",
    "        if revenue_q >= target_q:\n",
    "            if 105 < avg_achievement_q:\n",
    "                com_q += 0\n",
    "            elif 105 <= avg_achievement_q < 110:\n",
    "                com_q += 3000\n",
    "            elif 110 <= avg_achievement_q < 115:  \n",
    "                com_q += 4000\n",
    "            elif 115 <= avg_achievement_q < 120:  \n",
    "                com_q += 5000\n",
    "            elif avg_achievement_q >= 120:\n",
    "                com_q += 6000\n",
    "\n",
    "    ## Yearly calculation\n",
    "    avg_achievement_y = df2['%Achievement'].mean()\n",
    "    target_y = df2['Sales target'].sum()\n",
    "    revenue_y = df2['Revenue'].sum()\n",
    "\n",
    "    com_y = 0\n",
    "    if revenue_y >= target_y:\n",
    "        if 105 < avg_achievement_y:\n",
    "            com_y = 0\n",
    "        elif 105 <= avg_achievement_y < 110:\n",
    "            com_y = 10000\n",
    "        elif 110 <= avg_achievement_y < 115:  \n",
    "            com_y = 12000\n",
    "        elif 115 <= avg_achievement_y < 120:  \n",
    "            com_y = 13000\n",
    "        elif avg_achievement_y >= 120:\n",
    "            com_y = 15000\n",
    "\n",
    "    total = com + com_q + com_y\n",
    "    return total"
   ]
  },
  {
   "cell_type": "code",
   "execution_count": 115,
   "id": "b2fe5b94-df31-474a-92a2-9c615fc6b9f2",
   "metadata": {
    "tags": []
   },
   "outputs": [],
   "source": [
    "Wanida_com = cal_comm_retail('Wanida Techchavanich')\n",
    "Wattana_com = cal_comm_retail('Wattana Pattani')\n",
    "Punida_com = cal_comm_whole('Punida Wattanayakorn')\n"
   ]
  },
  {
   "cell_type": "code",
   "execution_count": 121,
   "id": "04a0a0ec-a117-4c4e-92e4-9589ca3c8de4",
   "metadata": {
    "tags": []
   },
   "outputs": [
    {
     "name": "stdout",
     "output_type": "stream",
     "text": [
      "Wanida Techchavanich's commission for this year is 35934.5625 thb\n",
      "Wattana Pattani's commission for this year is 93162.56650000002 thb\n",
      "Punida Wattanayakorn's commission for this year is 47113.93199999999 thb\n",
      "########################\n",
      "Wanida Techchavanich's average commission for this year is 2994.546875 thb/month\n",
      "Wattana Pattani's average commission for this year is 7763.547208333334 thb/month\n",
      "Punida Wattanayakorn's average commission for this year is 3926.1609999999996 thb/month\n"
     ]
    }
   ],
   "source": [
    "print(f\"Wanida Techchavanich's commission for this year is {Wanida_com} thb\")\n",
    "print(f\"Wattana Pattani's commission for this year is {Wattana_com} thb\")\n",
    "print(f\"Punida Wattanayakorn's commission for this year is {Punida_com} thb\")\n",
    "print(\"########################\")\n",
    "print(f\"Wanida Techchavanich's average commission for this year is {Wanida_com/12} thb/month\")\n",
    "print(f\"Wattana Pattani's average commission for this year is {Wattana_com/12} thb/month\")\n",
    "print(f\"Punida Wattanayakorn's average commission for this year is {Punida_com/12} thb/month\")"
   ]
  },
  {
   "cell_type": "code",
   "execution_count": 129,
   "id": "307c31fa-57b4-454b-a3bd-c089e99ace7f",
   "metadata": {
    "tags": []
   },
   "outputs": [
    {
     "name": "stdout",
     "output_type": "stream",
     "text": [
      "For Wanida Techchavanich, average %GP is 29.588095238095246% with total GP as 851645.1527380954\n",
      "For Wattana Pattani, average %GP is 29.479365079365085% with total GP as 2515741.052544643\n",
      "For Punida Wattanayakorn, average %GP is 5.95952380952381% with total GP as 1765452.5480833338\n"
     ]
    }
   ],
   "source": [
    "name_list = ['Wanida Techchavanich','Wattana Pattani','Punida Wattanayakorn']\n",
    "for name in name_list:\n",
    "    df2 = df[df['EMP Name'] == name]\n",
    "    avg_GP = df2['%GP'].mean()\n",
    "    sum_GP = df2['GP Value'].sum()\n",
    "    print(f\"For {name}, average %GP is {avg_GP}% with total GP as {sum_GP}\")"
   ]
  },
  {
   "cell_type": "code",
   "execution_count": null,
   "id": "4997ba32-c7f5-404c-b8c3-23cbaf05171a",
   "metadata": {},
   "outputs": [],
   "source": []
  }
 ],
 "metadata": {
  "kernelspec": {
   "display_name": "Python 3 (ipykernel)",
   "language": "python",
   "name": "python3"
  },
  "language_info": {
   "codemirror_mode": {
    "name": "ipython",
    "version": 3
   },
   "file_extension": ".py",
   "mimetype": "text/x-python",
   "name": "python",
   "nbconvert_exporter": "python",
   "pygments_lexer": "ipython3",
   "version": "3.11.5"
  }
 },
 "nbformat": 4,
 "nbformat_minor": 5
}
